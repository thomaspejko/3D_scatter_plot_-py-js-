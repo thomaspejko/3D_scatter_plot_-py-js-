{
 "cells": [
  {
   "cell_type": "markdown",
   "metadata": {},
   "source": [
    "### Read data"
   ]
  },
  {
   "cell_type": "code",
   "execution_count": 1,
   "metadata": {},
   "outputs": [],
   "source": [
    "import os\n",
    "import numpy as np\n",
    "import pandas as pd\n",
    "from pandas.api.types import is_string_dtype\n",
    "from pandas.api.types import is_numeric_dtype\n",
    "from sklearn.feature_extraction.text import CountVectorizer\n",
    "from sklearn import manifold\n",
    "from matplotlib import pyplot as plt\n",
    "from mpl_toolkits.mplot3d import Axes3D\n",
    "import matplotlib.cm as cm\n",
    "from collections import defaultdict"
   ]
  },
  {
   "cell_type": "code",
   "execution_count": 2,
   "metadata": {},
   "outputs": [
    {
     "data": {
      "text/plain": [
       "'C:\\\\Users\\\\as743ce\\\\Exercise'"
      ]
     },
     "execution_count": 2,
     "metadata": {},
     "output_type": "execute_result"
    }
   ],
   "source": [
    "os.getcwd()"
   ]
  },
  {
   "cell_type": "code",
   "execution_count": 3,
   "metadata": {},
   "outputs": [],
   "source": [
    "data = pd.read_excel('C:\\\\Users\\\\as743ce\\\\Exercise\\\\Dummy.xlsx', header=0)"
   ]
  },
  {
   "cell_type": "code",
   "execution_count": 4,
   "metadata": {},
   "outputs": [],
   "source": [
    "header = list(data.columns.values)"
   ]
  },
  {
   "cell_type": "code",
   "execution_count": null,
   "metadata": {},
   "outputs": [],
   "source": [
    "print(header)"
   ]
  },
  {
   "cell_type": "markdown",
   "metadata": {},
   "source": [
    "### Create console"
   ]
  },
  {
   "cell_type": "code",
   "execution_count": 11,
   "metadata": {},
   "outputs": [],
   "source": [
    "console = {}\n",
    "console_meta = {}\n",
    "list_p = list()\n",
    "list_d = list()\n",
    "list_n = list()\n",
    "list_q = list()\n",
    "for col in header:\n",
    "    console[col] = data[col].unique().tolist()\n",
    "    n = data[col].count()\n",
    "    q = len(data[col].unique().tolist())\n",
    "    p = q / n\n",
    "    list_p.append(p)\n",
    "    list_n.append(n)\n",
    "    list_q.append(q)\n",
    "    if is_numeric_dtype(data[col]):\n",
    "        list_d.append('Numeric')\n",
    "    else:\n",
    "        list_d.append('Categoric')\n",
    "        \n",
    "console_meta['Count'] = list_n\n",
    "console_meta['Unique'] = list_q\n",
    "console_meta['Div'] = list_p\n",
    "console_meta['Type'] = list_d"
   ]
  },
  {
   "cell_type": "code",
   "execution_count": 12,
   "metadata": {},
   "outputs": [
    {
     "name": "stdout",
     "output_type": "stream",
     "text": [
      "{'ID': [1000000, 1000001, 1000002, 1000003, 1000004, 1000005, 1000006, 1000007, 1000008, 1000009, 1000010, 1000011, 1000012, 1000013, 1000014, 1000015, 1000016, 1000017, 1000018, 1000019, 1000020, 1000021, 1000022, 1000023, 1000024, 1000025, 1000026, 1000027, 1000028, 1000029, 1000030, 1000031, 1000032, 1000033, 1000034, 1000035, 1000036, 1000037, 1000038, 1000039, 1000040, 1000041, 1000042, 1000043, 1000044, 1000045, 1000046, 1000047, 1000048, 1000049, 1000050, 1000051, 1000052, 1000053, 1000054, 1000055, 1000056, 1000057, 1000058, 1000059, 1000060, 1000061, 1000062, 1000063, 1000064, 1000065, 1000066, 1000067, 1000068, 1000069, 1000070, 1000071, 1000072, 1000073, 1000074, 1000075, 1000076, 1000077, 1000078, 1000079, 1000080, 1000081, 1000082, 1000083, 1000084, 1000085, 1000086, 1000087, 1000088, 1000089, 1000090, 1000091, 1000092, 1000093, 1000094, 1000095, 1000096, 1000097, 1000098, 1000099], 'Seller': ['Zumbeispiel GmbH', '3rd party', 'bspw bank AG'], 'Sellercode': ['ZBG', '3RD', 'BSP'], 'SellercodePlus': ['ZBG', '3RD', 'BSP'], 'Buyer': ['3rd party', 'Zumbeispiel GmbH', 'bspw bank AG'], 'Description': ['Goods', 'Clearing', 'Insurance', 'Precious metals', 'Advisory', 'Consulting', 'Advertising', 'Accomodation'], 'Source country': ['DE', 'ES', 'CH', 'GB'], 'Recipient country': ['DE', 'FR', 'ES', 'PT', 'CN', 'CH'], 'Warehouse country': ['DE', 'ES', 'None'], 'Incoterms': ['DDP', 'CIF', 'None'], 'VAT rate': [0.19, 0.0, 0.21, 0.08, 0.2], 'Tax code': ['DESTD', 'DEESL', 'NOVAT', 'ESSTD', 'ESESL', 'DEEXM', 'ESNIL', 'CHSTD', 'DERCH', 'GBSTD']}\n",
      "{'Count': [100, 100, 100, 100, 100, 100, 100, 100, 100, 100, 100, 100], 'Unique': [100, 3, 3, 3, 3, 8, 4, 6, 3, 3, 5, 10], 'Div': [1.0, 0.03, 0.03, 0.03, 0.03, 0.08, 0.04, 0.06, 0.03, 0.03, 0.05, 0.1], 'Type': ['Numeric', 'Categoric', 'Categoric', 'Categoric', 'Categoric', 'Categoric', 'Categoric', 'Categoric', 'Categoric', 'Categoric', 'Numeric', 'Categoric']}\n"
     ]
    }
   ],
   "source": [
    "print(console)\n",
    "print(console_meta)"
   ]
  },
  {
   "cell_type": "markdown",
   "metadata": {},
   "source": [
    "### Normalizing data"
   ]
  },
  {
   "cell_type": "code",
   "execution_count": null,
   "metadata": {},
   "outputs": [],
   "source": [
    "data_norm = data.copy()"
   ]
  },
  {
   "cell_type": "code",
   "execution_count": null,
   "metadata": {},
   "outputs": [],
   "source": [
    "data_norm.columns = np.arange(len(data_norm.columns))"
   ]
  },
  {
   "cell_type": "code",
   "execution_count": null,
   "metadata": {},
   "outputs": [],
   "source": [
    "data_norm.head()"
   ]
  },
  {
   "cell_type": "code",
   "execution_count": null,
   "metadata": {},
   "outputs": [],
   "source": [
    "d = defaultdict(list)\n",
    "l = 1\n",
    "r = list()\n",
    "for col in data_norm.columns:\n",
    "    for restcol in data_norm.columns:\n",
    "        if restcol > col:\n",
    "            for idx in data_norm.index:\n",
    "                if data_norm.loc[idx, restcol] not in d[data_norm.loc[idx, col]]:\n",
    "                    d[data_norm.loc[idx, col]].append(data_norm.loc[idx, restcol])\n",
    "            for i in d:\n",
    "                if len(d[i]) > l:\n",
    "                    l = len(d[i])\n",
    "            if l == 1:\n",
    "                r.append(restcol)\n",
    "            d = defaultdict(list)\n",
    "data_norm.drop(columns=r, inplace=True)\n",
    "data_norm.columns = np.arange(len(data_norm.columns))"
   ]
  },
  {
   "cell_type": "code",
   "execution_count": null,
   "metadata": {},
   "outputs": [],
   "source": [
    "data_norm.head()"
   ]
  },
  {
   "cell_type": "markdown",
   "metadata": {},
   "source": [
    "### Outlier scores"
   ]
  },
  {
   "cell_type": "markdown",
   "metadata": {},
   "source": [
    "#### Clusters"
   ]
  },
  {
   "cell_type": "code",
   "execution_count": null,
   "metadata": {},
   "outputs": [],
   "source": [
    "hindex = list(data_norm.columns.values)"
   ]
  },
  {
   "cell_type": "code",
   "execution_count": null,
   "metadata": {},
   "outputs": [],
   "source": [
    "data_outlier = data_norm.reset_index(drop=True)"
   ]
  },
  {
   "cell_type": "code",
   "execution_count": null,
   "metadata": {},
   "outputs": [],
   "source": [
    "data_outlier.sort_values(hindex, inplace=True)"
   ]
  },
  {
   "cell_type": "code",
   "execution_count": null,
   "metadata": {},
   "outputs": [],
   "source": [
    "data_outlier.reset_index(drop=True, inplace=True)"
   ]
  },
  {
   "cell_type": "code",
   "execution_count": null,
   "metadata": {},
   "outputs": [],
   "source": [
    "data_outlier['Cluster'] = np.nan"
   ]
  },
  {
   "cell_type": "code",
   "execution_count": null,
   "metadata": {},
   "outputs": [],
   "source": [
    "cluster = 1\n",
    "for index,row in data_outlier.iterrows():\n",
    "    if index != 0:\n",
    "        vari = 0\n",
    "        for hdx in hindex:\n",
    "            if data_outlier.loc[index, hdx] != data_outlier.loc[index-1, hdx]:\n",
    "                vari += 1\n",
    "        if vari != 0:\n",
    "            cluster += 1\n",
    "        data_outlier.loc[index, 'Cluster'] = cluster\n",
    "    else:\n",
    "        data_outlier.loc[index, 'Cluster'] = cluster"
   ]
  },
  {
   "cell_type": "markdown",
   "metadata": {},
   "source": [
    "#### Unique items"
   ]
  },
  {
   "cell_type": "code",
   "execution_count": null,
   "metadata": {},
   "outputs": [],
   "source": [
    "data_unique = data_outlier.copy()"
   ]
  },
  {
   "cell_type": "code",
   "execution_count": null,
   "metadata": {},
   "outputs": [],
   "source": [
    "data_unique['Count'] = np.nan"
   ]
  },
  {
   "cell_type": "code",
   "execution_count": null,
   "metadata": {},
   "outputs": [],
   "source": [
    "count = 1\n",
    "for index,row in data_unique.iterrows():\n",
    "    if index < data_unique.index[-1]:\n",
    "        if data_unique.loc[index, 'Cluster'] == data_unique.loc[index+1, 'Cluster']:\n",
    "            data_unique.drop(index, axis=0, inplace = True)\n",
    "            count += 1\n",
    "        else:\n",
    "            data_unique.loc[index, 'Count'] = count\n",
    "            count = 1           \n",
    "    else:\n",
    "        data_unique.loc[index, 'Count'] = count\n",
    "        count = 1"
   ]
  },
  {
   "cell_type": "code",
   "execution_count": null,
   "metadata": {},
   "outputs": [],
   "source": [
    "data_unique.sort_values('Count', inplace=True)"
   ]
  },
  {
   "cell_type": "code",
   "execution_count": null,
   "metadata": {},
   "outputs": [],
   "source": [
    "data_unique.reset_index(drop=True, inplace=True)"
   ]
  },
  {
   "cell_type": "markdown",
   "metadata": {},
   "source": [
    "#### ReCluster"
   ]
  },
  {
   "cell_type": "code",
   "execution_count": null,
   "metadata": {},
   "outputs": [],
   "source": [
    "data_unique['ReCluster'] = np.nan"
   ]
  },
  {
   "cell_type": "code",
   "execution_count": null,
   "metadata": {
    "scrolled": true
   },
   "outputs": [],
   "source": [
    "for idx in data_unique.index:\n",
    "    for idxr in reversed(data_unique.index):\n",
    "        if idxr > idx:\n",
    "            vari = 0\n",
    "            for hdx in hindex:\n",
    "                if data_unique.loc[idx, hdx] != data_unique.loc[idxr, hdx]:\n",
    "                    vari += 1\n",
    "            if vari == 1:\n",
    "                data_unique.loc[idx, 'ReCluster'] = data_unique.loc[idxr, 'Cluster']\n",
    "    if pd.isnull(data_unique.loc[idx, 'ReCluster']):\n",
    "        data_unique.loc[idx, 'ReCluster'] = data_unique.loc[idx, 'Cluster']"
   ]
  },
  {
   "cell_type": "code",
   "execution_count": null,
   "metadata": {},
   "outputs": [],
   "source": [
    "data_unique.head(18)"
   ]
  },
  {
   "cell_type": "markdown",
   "metadata": {},
   "source": [
    "#### Outlier scores"
   ]
  },
  {
   "cell_type": "code",
   "execution_count": null,
   "metadata": {},
   "outputs": [],
   "source": [
    "data_unique['OutlierScore'] = np.nan"
   ]
  },
  {
   "cell_type": "code",
   "execution_count": null,
   "metadata": {},
   "outputs": [],
   "source": [
    "for idx in data_unique.index:\n",
    "    ReCluster = data_unique.loc[idx, 'ReCluster']\n",
    "    CountTotal = data_unique[data_unique['ReCluster'] == ReCluster]['Count'].sum()\n",
    "    CountSub = data_unique.loc[idx, 'Count']\n",
    "    data_unique.loc[idx, 'OutlierScore'] = 1 - (CountSub / CountTotal)"
   ]
  },
  {
   "cell_type": "code",
   "execution_count": null,
   "metadata": {},
   "outputs": [],
   "source": [
    "data_unique.head()"
   ]
  },
  {
   "cell_type": "markdown",
   "metadata": {},
   "source": [
    "### Reduce data in scope"
   ]
  },
  {
   "cell_type": "code",
   "execution_count": null,
   "metadata": {},
   "outputs": [],
   "source": [
    "dimensions = ['Seller', 'Buyer', 'Description']"
   ]
  },
  {
   "cell_type": "code",
   "execution_count": null,
   "metadata": {},
   "outputs": [],
   "source": [
    "data_red = pd.DataFrame(index = data.index).copy()\n",
    "for d in dimensions:\n",
    "    data_red[d] = data[d]"
   ]
  },
  {
   "cell_type": "code",
   "execution_count": null,
   "metadata": {},
   "outputs": [],
   "source": [
    "data_red.head()"
   ]
  },
  {
   "cell_type": "code",
   "execution_count": null,
   "metadata": {},
   "outputs": [],
   "source": [
    "data_list = pd.DataFrame(index = data.index)\n",
    "data_list['list'] = data_red.values.tolist()"
   ]
  },
  {
   "cell_type": "code",
   "execution_count": null,
   "metadata": {},
   "outputs": [],
   "source": [
    "data_list.head()"
   ]
  },
  {
   "cell_type": "code",
   "execution_count": null,
   "metadata": {},
   "outputs": [],
   "source": [
    "vectorizer = CountVectorizer()\n",
    "X = vectorizer.fit_transform(data_list['list'].astype(str))"
   ]
  },
  {
   "cell_type": "code",
   "execution_count": null,
   "metadata": {
    "scrolled": true
   },
   "outputs": [],
   "source": [
    "data_onehot = pd.DataFrame(index = data.index, columns = vectorizer.get_feature_names(), data = X.toarray())"
   ]
  },
  {
   "cell_type": "code",
   "execution_count": null,
   "metadata": {
    "scrolled": true
   },
   "outputs": [],
   "source": [
    "data_onehot.head()"
   ]
  },
  {
   "cell_type": "code",
   "execution_count": null,
   "metadata": {},
   "outputs": [],
   "source": [
    "mds3 = manifold.MDS(n_components=3, n_init=1, max_iter=50)\n",
    "data_mds3 = mds3.fit_transform(data_onehot)"
   ]
  },
  {
   "cell_type": "code",
   "execution_count": null,
   "metadata": {},
   "outputs": [],
   "source": [
    "fig = plt.figure()\n",
    "axe = Axes3D(fig)\n",
    "\n",
    "axe.scatter(data_mds3[:,0], data_mds3[:,1], data_mds3[:,2], cmap='BrBG')\n",
    "plt.show()"
   ]
  }
 ],
 "metadata": {
  "kernelspec": {
   "display_name": "Python 3",
   "language": "python",
   "name": "python3"
  },
  "language_info": {
   "codemirror_mode": {
    "name": "ipython",
    "version": 3
   },
   "file_extension": ".py",
   "mimetype": "text/x-python",
   "name": "python",
   "nbconvert_exporter": "python",
   "pygments_lexer": "ipython3",
   "version": "3.7.1"
  }
 },
 "nbformat": 4,
 "nbformat_minor": 2
}
